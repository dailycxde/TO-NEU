{
 "cells": [
  {
   "cell_type": "code",
   "execution_count": null,
   "id": "2ddec20c",
   "metadata": {},
   "outputs": [
    {
     "name": "stdout",
     "output_type": "stream",
     "text": [
      "Welcome to the table organizer!\n",
      "\n",
      "\n",
      "Enter the course code with the Group only:  ECC201\n",
      "\n",
      "                           0            1                       2\n",
      "0  ÇARŞAMBA   (WEDNESDAY).2  11:00-11:50     Eczacılık EZ 0 D06 \n",
      "1  ÇARŞAMBA   (WEDNESDAY).3  12:00-12:50     Eczacılık EZ 0 D06 \n",
      "2         CUMA   (FRIDAY).4  13:00-13:50  Veterinerlik VT 3 D01 \n",
      "3         CUMA   (FRIDAY).5  14:00-14:50  Veterinerlik VT 3 D01 \n",
      "\n",
      ">>> COMPLETED <<<\n",
      "You shall find ECC201.csv in the same directory as this python script!\n",
      "\n",
      "--------------------------------------------------\n"
     ]
    }
   ],
   "source": [
    "import pandas as pd\n",
    "\n",
    "print(\"Welcome to the table organizer!\\n\")\n",
    "\n",
    "def subject_table(course_code):\n",
    "    #open the modified timetable\n",
    "    df = pd.read_excel('timetable.xlsx', header=1)\n",
    "    #select all columns from monday to friday\n",
    "    df = df.iloc[:, :]\n",
    "\n",
    "    #initiate some lists\n",
    "    day = []\n",
    "    time = []\n",
    "    location = []\n",
    "\n",
    "    #location, clock-wise time, day-wise time\n",
    "    for l in range(df.shape[0]):\n",
    "        for c in range(df.shape[1]):\n",
    "            if course_code in str(df.iloc[l, c])[:8].split():\n",
    "                location.append(df.iloc[l][0])\n",
    "                time.append(df.iloc[0][c])\n",
    "                day.append(df.columns[c])\n",
    "            \n",
    "    #zip everything together\n",
    "    table = list(zip(day, time, location))\n",
    "\n",
    "    df = pd.DataFrame(table)\n",
    "    \n",
    "    df.to_csv(f'{course_code}.csv')    \n",
    "\n",
    "    print('\\n', df)\n",
    "\n",
    "while True:\n",
    "    io = input(\"\\nEnter the course code with the Group only:  \")\n",
    "    if io is None or io.lower() == 'exit':\n",
    "        break\n",
    "    subject_table(io)\n",
    "    print(\"\\n>>> COMPLETED <<<\")\n",
    "    print(f\"You shall find {io}.csv in the same directory as this python script!\\n\")\n",
    "    print('-' * 50)"
   ]
  }
 ],
 "metadata": {
  "kernelspec": {
   "display_name": "Python 3 (ipykernel)",
   "language": "python",
   "name": "python3"
  },
  "language_info": {
   "codemirror_mode": {
    "name": "ipython",
    "version": 3
   },
   "file_extension": ".py",
   "mimetype": "text/x-python",
   "name": "python",
   "nbconvert_exporter": "python",
   "pygments_lexer": "ipython3",
   "version": "3.9.12"
  }
 },
 "nbformat": 4,
 "nbformat_minor": 5
}
